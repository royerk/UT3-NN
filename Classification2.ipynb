{
 "cells": [
  {
   "cell_type": "code",
   "execution_count": 1,
   "metadata": {
    "collapsed": false
   },
   "outputs": [
    {
     "name": "stderr",
     "output_type": "stream",
     "text": [
      "Using Theano backend.\n"
     ]
    }
   ],
   "source": [
    "import numpy as np\n",
    "import pandas as pd\n",
    "\n",
    "from keras.models import Sequential\n",
    "from keras.layers import Dense, Dropout\n",
    "from keras.wrappers.scikit_learn import KerasClassifier\n",
    "from keras.utils import np_utils\n",
    "from keras.callbacks import EarlyStopping, History\n",
    "from keras.regularizers import l2\n",
    "\n",
    "from sklearn.cross_validation import cross_val_score\n",
    "from sklearn.cross_validation import KFold\n",
    "from sklearn.preprocessing import LabelEncoder\n",
    "from sklearn.pipeline import Pipeline\n",
    "from sklearn.metrics import roc_auc_score, roc_curve, auc, confusion_matrix\n",
    "import time\n",
    "import matplotlib\n",
    "import matplotlib.pyplot as plt\n",
    "%matplotlib inline\n",
    "import keras_toolbox as tb\n",
    "import random"
   ]
  },
  {
   "cell_type": "code",
   "execution_count": 2,
   "metadata": {
    "collapsed": false
   },
   "outputs": [],
   "source": [
    "def get_index_of_maxes(tab, n):\n",
    "    result = []\n",
    "    for line in tab:\n",
    "        foo = list(line)\n",
    "        sub_result = []\n",
    "        for i in range(n+1):\n",
    "            the_max = max(foo)\n",
    "            its_index = foo.index(the_max)\n",
    "            sub_result.append(its_index)\n",
    "            foo[its_index] = -100\n",
    "        result.append(sub_result)\n",
    "    return result"
   ]
  },
  {
   "cell_type": "code",
   "execution_count": 3,
   "metadata": {
    "collapsed": true
   },
   "outputs": [],
   "source": [
    "# encode moves quality\n",
    "def create_2_labels(x, threshold):\n",
    "    if x >= threshold:\n",
    "        return \"good\"\n",
    "    else:\n",
    "        return \"bad\"\n",
    "    \n",
    "# cast types\n",
    "def df_proper_types(dataf):\n",
    "    cols = ['c'+str(i) for i in range(81)]+['nextMove', 'localMove']#['isWin', 'nextMove', 'localMove']\n",
    "    for col in cols:\n",
    "        dataf[col] = dataf[col].astype(int)\n",
    "    return dataf\n",
    "\n",
    "def shuffle(dataf):\n",
    "    np.random.seed(int(time.time()))\n",
    "    dataf = dataf.reindex(np.random.permutation(dataf.index))\n",
    "    dataf = dataf.reset_index()\n",
    "    dataf = dataf.drop(['index'],axis=1)\n",
    "    return dataf\n",
    "    \n",
    "# one hot encoder\n",
    "def one_hot(Y):\n",
    "    # encode class values as integers\n",
    "    encoder = LabelEncoder()\n",
    "    encoder.fit(Y)\n",
    "    encoded_Y = encoder.transform(Y)\n",
    "    # convert integers to dummy variables (i.e. one hot encoded)\n",
    "    return np_utils.to_categorical(encoded_Y), encoder.classes_"
   ]
  },
  {
   "cell_type": "markdown",
   "metadata": {},
   "source": [
    "## For anyone reading this\n",
    "The sort of ETL process I had was encoding the game : 9 tictactoe boards = 81 cells (+ state of those 9 boards),  representing a move by assocating the board before and after the move, another column to describe who won... 287 columns in the end."
   ]
  },
  {
   "cell_type": "code",
   "execution_count": 4,
   "metadata": {
    "collapsed": false
   },
   "outputs": [
    {
     "name": "stdout",
     "output_type": "stream",
     "text": [
      "(62460, 287)\n"
     ]
    },
    {
     "data": {
      "text/html": [
       "<div>\n",
       "<table border=\"1\" class=\"dataframe\">\n",
       "  <thead>\n",
       "    <tr style=\"text-align: right;\">\n",
       "      <th></th>\n",
       "      <th>c0</th>\n",
       "      <th>c1</th>\n",
       "      <th>c2</th>\n",
       "      <th>c3</th>\n",
       "      <th>c4</th>\n",
       "      <th>c5</th>\n",
       "      <th>c6</th>\n",
       "      <th>c7</th>\n",
       "      <th>c8</th>\n",
       "      <th>c9</th>\n",
       "      <th>...</th>\n",
       "      <th>macroToPlay</th>\n",
       "      <th>cp0</th>\n",
       "      <th>cp1</th>\n",
       "      <th>cp2</th>\n",
       "      <th>cp3</th>\n",
       "      <th>cp4</th>\n",
       "      <th>cp5</th>\n",
       "      <th>cp6</th>\n",
       "      <th>cp7</th>\n",
       "      <th>cp8</th>\n",
       "    </tr>\n",
       "  </thead>\n",
       "  <tbody>\n",
       "    <tr>\n",
       "      <th>0</th>\n",
       "      <td>0</td>\n",
       "      <td>0</td>\n",
       "      <td>0</td>\n",
       "      <td>0</td>\n",
       "      <td>0</td>\n",
       "      <td>0</td>\n",
       "      <td>0</td>\n",
       "      <td>0</td>\n",
       "      <td>0</td>\n",
       "      <td>0</td>\n",
       "      <td>...</td>\n",
       "      <td>1</td>\n",
       "      <td>0</td>\n",
       "      <td>0</td>\n",
       "      <td>0</td>\n",
       "      <td>0</td>\n",
       "      <td>0</td>\n",
       "      <td>0</td>\n",
       "      <td>0</td>\n",
       "      <td>0</td>\n",
       "      <td>0</td>\n",
       "    </tr>\n",
       "    <tr>\n",
       "      <th>1</th>\n",
       "      <td>0</td>\n",
       "      <td>0</td>\n",
       "      <td>0</td>\n",
       "      <td>0</td>\n",
       "      <td>0</td>\n",
       "      <td>0</td>\n",
       "      <td>0</td>\n",
       "      <td>0</td>\n",
       "      <td>0</td>\n",
       "      <td>0</td>\n",
       "      <td>...</td>\n",
       "      <td>5</td>\n",
       "      <td>0</td>\n",
       "      <td>0</td>\n",
       "      <td>0</td>\n",
       "      <td>0</td>\n",
       "      <td>0</td>\n",
       "      <td>1</td>\n",
       "      <td>0</td>\n",
       "      <td>0</td>\n",
       "      <td>0</td>\n",
       "    </tr>\n",
       "    <tr>\n",
       "      <th>2</th>\n",
       "      <td>0</td>\n",
       "      <td>0</td>\n",
       "      <td>0</td>\n",
       "      <td>0</td>\n",
       "      <td>0</td>\n",
       "      <td>0</td>\n",
       "      <td>0</td>\n",
       "      <td>0</td>\n",
       "      <td>0</td>\n",
       "      <td>0</td>\n",
       "      <td>...</td>\n",
       "      <td>7</td>\n",
       "      <td>0</td>\n",
       "      <td>0</td>\n",
       "      <td>0</td>\n",
       "      <td>0</td>\n",
       "      <td>0</td>\n",
       "      <td>0</td>\n",
       "      <td>0</td>\n",
       "      <td>0</td>\n",
       "      <td>0</td>\n",
       "    </tr>\n",
       "  </tbody>\n",
       "</table>\n",
       "<p>3 rows × 287 columns</p>\n",
       "</div>"
      ],
      "text/plain": [
       "   c0  c1  c2  c3  c4  c5  c6  c7  c8  c9 ...   macroToPlay  cp0  cp1  cp2  \\\n",
       "0   0   0   0   0   0   0   0   0   0   0 ...             1    0    0    0   \n",
       "1   0   0   0   0   0   0   0   0   0   0 ...             5    0    0    0   \n",
       "2   0   0   0   0   0   0   0   0   0   0 ...             7    0    0    0   \n",
       "\n",
       "   cp3  cp4  cp5  cp6  cp7  cp8  \n",
       "0    0    0    0    0    0    0  \n",
       "1    0    0    1    0    0    0  \n",
       "2    0    0    0    0    0    0  \n",
       "\n",
       "[3 rows x 287 columns]"
      ]
     },
     "execution_count": 4,
     "metadata": {},
     "output_type": "execute_result"
    }
   ],
   "source": [
    "df = pd.read_csv(\"t10_players_extract.csv\")\n",
    "#df = df_proper_types(df)\n",
    "for col in df.columns:\n",
    "    df[col] = df[col].astype(int)\n",
    "print(df.shape)\n",
    "df.head(3)"
   ]
  },
  {
   "cell_type": "code",
   "execution_count": 5,
   "metadata": {
    "collapsed": true
   },
   "outputs": [],
   "source": [
    "df = shuffle(df)"
   ]
  },
  {
   "cell_type": "markdown",
   "metadata": {},
   "source": [
    "Separate train from test:"
   ]
  },
  {
   "cell_type": "code",
   "execution_count": 6,
   "metadata": {
    "collapsed": false
   },
   "outputs": [],
   "source": [
    "train_test_ratio = 0.75\n",
    "\n",
    "n_samples = int(df.shape[0] * train_test_ratio)\n",
    "\n",
    "df_train = df.copy()\n",
    "df_train = df_train[:n_samples]\n",
    "\n",
    "df_test = df.copy()\n",
    "df_test = df_test[n_samples:]\n",
    "df_test = df_test.reset_index()\n",
    "df_test = df_test.drop('index',axis=1)\n",
    "#df_test.head(2)"
   ]
  },
  {
   "cell_type": "code",
   "execution_count": 7,
   "metadata": {
    "collapsed": false
   },
   "outputs": [],
   "source": [
    "# subset of columns\n",
    "def get_X_Y(df):\n",
    "    X_columns = ['c'+str(i) for i in range(81)]+['m'+str(i) for i in range(9)] + ['cp'+str(i) for i in range(9)]\n",
    "    y_column  = ['localMove']#['localMove']\n",
    "    X = df[X_columns].values\n",
    "    Y = one_hot(df[y_column])\n",
    "    return X, Y[0], Y[1]"
   ]
  },
  {
   "cell_type": "code",
   "execution_count": 7,
   "metadata": {
    "collapsed": true
   },
   "outputs": [],
   "source": [
    "# using everything\n",
    "def get_X_Y_2(df):\n",
    "    X_columns = ['p1c_'+str(i) for i in range(81)]+['p1m_'+str(i) for i in range(9)] \n",
    "    X_columns+= ['p2c_'+str(i) for i in range(81)]+['p2m_'+str(i) for i in range(9)] +['cp'+str(i) for i in range(9)]\n",
    "    y_column  = ['localMove']#['localMove']\n",
    "    X = df[X_columns].values\n",
    "    Y = one_hot(df[y_column])\n",
    "    return X, Y[0], Y[1]"
   ]
  },
  {
   "cell_type": "code",
   "execution_count": 8,
   "metadata": {
    "collapsed": false
   },
   "outputs": [
    {
     "name": "stderr",
     "output_type": "stream",
     "text": [
      "/home/kevin/.virtualenvs/AiScraperEnv/lib/python3.5/site-packages/sklearn/preprocessing/label.py:108: DataConversionWarning: A column-vector y was passed when a 1d array was expected. Please change the shape of y to (n_samples, ), for example using ravel().\n",
      "  y = column_or_1d(y, warn=True)\n",
      "/home/kevin/.virtualenvs/AiScraperEnv/lib/python3.5/site-packages/sklearn/preprocessing/label.py:108: DataConversionWarning: A column-vector y was passed when a 1d array was expected. Please change the shape of y to (n_samples, ), for example using ravel().\n",
      "  y = column_or_1d(y, warn=True)\n"
     ]
    }
   ],
   "source": [
    "X_train, y_train, _ = get_X_Y_2(df_train)\n",
    "X_test, y_test, classes_names   = get_X_Y_2(df_test)"
   ]
  },
  {
   "cell_type": "markdown",
   "metadata": {},
   "source": [
    "- 25% with: 500, relu, W b regularizers, loss= 'categorical_crossentropy', adam, monitor:categorical_accuracy\n",
    "\n",
    "compter les doublons"
   ]
  },
  {
   "cell_type": "code",
   "execution_count": 9,
   "metadata": {
    "collapsed": false
   },
   "outputs": [],
   "source": [
    "X_shape = (81 + 9) * 2 + 9\n",
    "y_shape = 9\n",
    "\n",
    "layers_size = [400,150] #400 200 100 50 0.2517, 6 4 2 2 2\n",
    "layers_activtions = ['relu','relu']\n",
    "\n",
    "model = Sequential()\n",
    "for i in range(len(layers_size)):\n",
    "    size = layers_size[i]\n",
    "    activation = layers_activtions[i]\n",
    "    model.add(Dense(size, input_dim=X_shape, init='uniform', activation=activation # lecun_uniform\n",
    "                    #, W_regularizer=l2(1e-4)\n",
    "                    #, b_regularizer=l2(1e-4)\n",
    "                   ))\n",
    "\n",
    "model.add(Dense(y_shape, init='lecun_uniform', activation='softmax' # lecun_uniform\n",
    "                #, W_regularizer=l2(1e-4)\n",
    "               #, b_regularizer=l2(1e-4)\n",
    "               ))\n",
    "\n",
    "# Compile model\n",
    "model.compile(loss= 'categorical_crossentropy' # binary_crossentropy\n",
    "              , optimizer='adam' # sgd adam\n",
    "              , metrics=['accuracy', 'categorical_accuracy']\n",
    "              )"
   ]
  },
  {
   "cell_type": "code",
   "execution_count": 10,
   "metadata": {
    "collapsed": false
   },
   "outputs": [
    {
     "name": "stdout",
     "output_type": "stream",
     "text": [
      "(n epochs: 5 ) 0.316170349014 => 0.307140569957\n",
      "ended\n"
     ]
    }
   ],
   "source": [
    "# testing accuracy on test set for each epoch\n",
    "acc0 = -10\n",
    "acc1 = 0\n",
    "n_epo = 1\n",
    "while acc1 - acc0 > 1e-6:\n",
    "    model.fit(X_train, y_train\n",
    "                             , nb_epoch=1 # maximum of epochs\n",
    "                             , batch_size=2000 # training elements per batch\n",
    "                             , verbose=0 # no outputs, it's buggy, 1 progression, 2 epoch metrics only\n",
    "                             , shuffle = True # batch shuffling\n",
    "                            )\n",
    "    scores = model.evaluate(X_test, y_test, verbose=0)\n",
    "    acc0 = acc1\n",
    "    acc1 = scores[1]\n",
    "    print(\"\\r(n epochs:\",n_epo,')',acc0,'=>',acc1, end=\"\")\n",
    "    n_epo += 1\n",
    "print(\"\\nended\")"
   ]
  },
  {
   "cell_type": "code",
   "execution_count": 47,
   "metadata": {
    "collapsed": false
   },
   "outputs": [
    {
     "name": "stdout",
     "output_type": "stream",
     "text": [
      "n epoch: 20\n"
     ]
    }
   ],
   "source": [
    "# same but using builtin early stopping\n",
    "early_stopping = EarlyStopping(monitor='categorical_accuracy' # loss\n",
    "                               #, min_delta=1e-6\n",
    "                             , patience=3)  # stop if no improvements after n epochs\n",
    "history = History()\n",
    "history_callback = model.fit(X_train, y_train\n",
    "                             , nb_epoch=20 # maximum of epochs\n",
    "                             , batch_size=2000 # training elements per batch\n",
    "                             , verbose=0 # no outputs, it's buggy 1 progression, 2 epoch metrics only\n",
    "                             , callbacks=[early_stopping, history]\n",
    "                             , shuffle = True # batch shuffling\n",
    "                             #, validation_data = (X_test, y_test)\n",
    "                            )\n",
    "print('n epoch:',len(history.epoch))"
   ]
  },
  {
   "cell_type": "code",
   "execution_count": 48,
   "metadata": {
    "collapsed": false
   },
   "outputs": [
    {
     "name": "stdout",
     "output_type": "stream",
     "text": [
      "15456/15615 [============================>.] - ETA: 0s\n",
      "Test set:\n",
      "loss 2.78204746488\n",
      "acc 0.363880883741\n",
      "categorical_accuracy 0.363880883741\n"
     ]
    }
   ],
   "source": [
    "scores = model.evaluate(X_test, y_test) \n",
    "print(\"\")\n",
    "print(\"Test set:\") \n",
    "for i in range(len(model.metrics_names)):\n",
    "    print(model.metrics_names[i], scores[i])"
   ]
  },
  {
   "cell_type": "code",
   "execution_count": 104,
   "metadata": {
    "collapsed": false
   },
   "outputs": [
    {
     "name": "stdout",
     "output_type": "stream",
     "text": [
      "____________________________________________________________________________________________________\n",
      "Layer (type)                     Output Shape          Param #     Connected to                     \n",
      "====================================================================================================\n",
      "dense_102 (Dense)                (None, 600)           54600       dense_input_39[0][0]             \n",
      "____________________________________________________________________________________________________\n",
      "dense_103 (Dense)                (None, 400)           240400      dense_102[0][0]                  \n",
      "____________________________________________________________________________________________________\n",
      "dense_104 (Dense)                (None, 9)             3609        dense_103[0][0]                  \n",
      "====================================================================================================\n",
      "Total params: 298609\n",
      "____________________________________________________________________________________________________\n"
     ]
    }
   ],
   "source": [
    "model.summary()"
   ]
  },
  {
   "cell_type": "code",
   "execution_count": 30,
   "metadata": {
    "collapsed": false
   },
   "outputs": [
    {
     "data": {
      "text/plain": [
       "193252"
      ]
     },
     "execution_count": 30,
     "metadata": {},
     "output_type": "execute_result"
    }
   ],
   "source": [
    "# nb of coefficient in the NN\n",
    "800 * 90 + 800 + 150 * 800 + 150 + 2 * 150 + 2"
   ]
  },
  {
   "cell_type": "code",
   "execution_count": 18,
   "metadata": {
    "collapsed": false
   },
   "outputs": [
    {
     "name": "stdout",
     "output_type": "stream",
     "text": [
      "\n",
      "acc: 0.401857188601\n"
     ]
    },
    {
     "data": {
      "text/html": [
       "<div>\n",
       "<table border=\"1\" class=\"dataframe\">\n",
       "  <thead>\n",
       "    <tr style=\"text-align: right;\">\n",
       "      <th>col_0</th>\n",
       "      <th>0</th>\n",
       "      <th>1</th>\n",
       "      <th>2</th>\n",
       "      <th>3</th>\n",
       "      <th>4</th>\n",
       "      <th>5</th>\n",
       "      <th>6</th>\n",
       "      <th>7</th>\n",
       "      <th>8</th>\n",
       "    </tr>\n",
       "    <tr>\n",
       "      <th>row_0</th>\n",
       "      <th></th>\n",
       "      <th></th>\n",
       "      <th></th>\n",
       "      <th></th>\n",
       "      <th></th>\n",
       "      <th></th>\n",
       "      <th></th>\n",
       "      <th></th>\n",
       "      <th></th>\n",
       "    </tr>\n",
       "  </thead>\n",
       "  <tbody>\n",
       "    <tr>\n",
       "      <th>0</th>\n",
       "      <td>605</td>\n",
       "      <td>111</td>\n",
       "      <td>183</td>\n",
       "      <td>153</td>\n",
       "      <td>107</td>\n",
       "      <td>145</td>\n",
       "      <td>145</td>\n",
       "      <td>129</td>\n",
       "      <td>199</td>\n",
       "    </tr>\n",
       "    <tr>\n",
       "      <th>1</th>\n",
       "      <td>82</td>\n",
       "      <td>816</td>\n",
       "      <td>120</td>\n",
       "      <td>256</td>\n",
       "      <td>80</td>\n",
       "      <td>179</td>\n",
       "      <td>115</td>\n",
       "      <td>122</td>\n",
       "      <td>150</td>\n",
       "    </tr>\n",
       "    <tr>\n",
       "      <th>2</th>\n",
       "      <td>142</td>\n",
       "      <td>137</td>\n",
       "      <td>783</td>\n",
       "      <td>154</td>\n",
       "      <td>103</td>\n",
       "      <td>105</td>\n",
       "      <td>128</td>\n",
       "      <td>86</td>\n",
       "      <td>162</td>\n",
       "    </tr>\n",
       "    <tr>\n",
       "      <th>3</th>\n",
       "      <td>69</td>\n",
       "      <td>174</td>\n",
       "      <td>125</td>\n",
       "      <td>883</td>\n",
       "      <td>71</td>\n",
       "      <td>133</td>\n",
       "      <td>115</td>\n",
       "      <td>136</td>\n",
       "      <td>143</td>\n",
       "    </tr>\n",
       "    <tr>\n",
       "      <th>4</th>\n",
       "      <td>75</td>\n",
       "      <td>92</td>\n",
       "      <td>113</td>\n",
       "      <td>94</td>\n",
       "      <td>466</td>\n",
       "      <td>74</td>\n",
       "      <td>101</td>\n",
       "      <td>60</td>\n",
       "      <td>116</td>\n",
       "    </tr>\n",
       "    <tr>\n",
       "      <th>5</th>\n",
       "      <td>99</td>\n",
       "      <td>202</td>\n",
       "      <td>110</td>\n",
       "      <td>220</td>\n",
       "      <td>75</td>\n",
       "      <td>738</td>\n",
       "      <td>142</td>\n",
       "      <td>150</td>\n",
       "      <td>112</td>\n",
       "    </tr>\n",
       "    <tr>\n",
       "      <th>6</th>\n",
       "      <td>133</td>\n",
       "      <td>136</td>\n",
       "      <td>204</td>\n",
       "      <td>141</td>\n",
       "      <td>84</td>\n",
       "      <td>142</td>\n",
       "      <td>620</td>\n",
       "      <td>99</td>\n",
       "      <td>149</td>\n",
       "    </tr>\n",
       "    <tr>\n",
       "      <th>7</th>\n",
       "      <td>108</td>\n",
       "      <td>206</td>\n",
       "      <td>146</td>\n",
       "      <td>236</td>\n",
       "      <td>64</td>\n",
       "      <td>172</td>\n",
       "      <td>102</td>\n",
       "      <td>670</td>\n",
       "      <td>131</td>\n",
       "    </tr>\n",
       "    <tr>\n",
       "      <th>8</th>\n",
       "      <td>123</td>\n",
       "      <td>145</td>\n",
       "      <td>150</td>\n",
       "      <td>156</td>\n",
       "      <td>97</td>\n",
       "      <td>121</td>\n",
       "      <td>116</td>\n",
       "      <td>85</td>\n",
       "      <td>694</td>\n",
       "    </tr>\n",
       "  </tbody>\n",
       "</table>\n",
       "</div>"
      ],
      "text/plain": [
       "col_0    0    1    2    3    4    5    6    7    8\n",
       "row_0                                             \n",
       "0      605  111  183  153  107  145  145  129  199\n",
       "1       82  816  120  256   80  179  115  122  150\n",
       "2      142  137  783  154  103  105  128   86  162\n",
       "3       69  174  125  883   71  133  115  136  143\n",
       "4       75   92  113   94  466   74  101   60  116\n",
       "5       99  202  110  220   75  738  142  150  112\n",
       "6      133  136  204  141   84  142  620   99  149\n",
       "7      108  206  146  236   64  172  102  670  131\n",
       "8      123  145  150  156   97  121  116   85  694"
      ]
     },
     "execution_count": 18,
     "metadata": {},
     "output_type": "execute_result"
    }
   ],
   "source": [
    "y_pred = model.predict_classes(X_test, verbose=0)\n",
    "foo = df_test['localMove'].values\n",
    "bar = y_pred#.values\n",
    "#bar\n",
    "df_confusion = pd.crosstab(foo, bar)\n",
    "\n",
    "aa = 0\n",
    "for i in list(set(df_confusion.columns)):\n",
    "    aa += df_confusion[i][i]\n",
    "aa = aa / len(foo)\n",
    "print('\\nacc:',aa)\n",
    "df_confusion"
   ]
  },
  {
   "cell_type": "markdown",
   "metadata": {},
   "source": [
    "#### 40 % accuracy is better 1/9, but I am trying to reduce the branching factor not guessing the appropriate move. Adding the top *n* probabilities:"
   ]
  },
  {
   "cell_type": "code",
   "execution_count": 39,
   "metadata": {
    "collapsed": false
   },
   "outputs": [
    {
     "data": {
      "text/plain": [
       "([0.3910342619276337,\n",
       "  0.6185078450208134,\n",
       "  0.7776496958053154,\n",
       "  0.8822926673070766,\n",
       "  0.9439000960614794,\n",
       "  0.9779699007364714,\n",
       "  0.9949407620877362,\n",
       "  0.9990393852065321,\n",
       "  1.0],\n",
       " [0.3910342619276337,\n",
       "  0.22747358309317967,\n",
       "  0.15914185078450205,\n",
       "  0.10464297150176116,\n",
       "  0.06160742875440284,\n",
       "  0.03406980467499199,\n",
       "  0.0169708613512648,\n",
       "  0.004098623118795941,\n",
       "  0.0009606147934678733])"
      ]
     },
     "execution_count": 39,
     "metadata": {},
     "output_type": "execute_result"
    }
   ],
   "source": [
    "good_answer = get_index_of_maxes(y_test, 1)\n",
    "y_pred = model.predict(X_test)\n",
    "best_answers = get_index_of_maxes(y_pred, 9)\n",
    "\n",
    "ok = []\n",
    "ratio0 = 0\n",
    "deltas = []\n",
    "for foo in range(1, 9+1):\n",
    "    oko = 0\n",
    "    for i in range(len(best_answers)):\n",
    "        if good_answer[i][0] in best_answers[i][:foo]:\n",
    "            oko += 1\n",
    "    #print('oks:', (ok/len(best_answers)))\n",
    "    ratio = oko/len(best_answers)\n",
    "    ok.append(ratio)\n",
    "    deltas.append(ratio - ratio0)\n",
    "    ratio0 = ratio\n",
    "ok, deltas"
   ]
  },
  {
   "cell_type": "code",
   "execution_count": 40,
   "metadata": {
    "collapsed": false
   },
   "outputs": [
    {
     "data": {
      "image/png": "[encoded data removed]",
      "text/plain": [
       "<matplotlib.figure.Figure at 0x7fdb0c521550>"
      ]
     },
     "metadata": {},
     "output_type": "display_data"
    }
   ],
   "source": [
    "plt.plot(range(1,10), ok)\n",
    "plt.plot(range(1,10), deltas)\n",
    "plt.ylim(0,1)\n",
    "plt.show()"
   ]
  },
  {
   "cell_type": "markdown",
   "metadata": {},
   "source": [
    "##### When considering the 4 top moves out of 9, we have the good move with 85% confidence. Reducing by half the moves to test."
   ]
  },
  {
   "cell_type": "markdown",
   "metadata": {},
   "source": [
    "---"
   ]
  }
 ],
 "metadata": {
  "kernelspec": {
   "display_name": "Python 3",
   "language": "python",
   "name": "python3"
  },
  "language_info": {
   "codemirror_mode": {
    "name": "ipython",
    "version": 3
   },
   "file_extension": ".py",
   "mimetype": "text/x-python",
   "name": "python",
   "nbconvert_exporter": "python",
   "pygments_lexer": "ipython3",
   "version": "3.5.1+"
  }
 },
 "nbformat": 4,
 "nbformat_minor": 0
}
